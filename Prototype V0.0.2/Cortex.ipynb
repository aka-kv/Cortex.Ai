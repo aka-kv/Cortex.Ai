{
  "cells": [
    {
      "cell_type": "code",
      "execution_count": 27,
      "metadata": {
        "id": "r6JD2Jvc4SwD"
      },
      "outputs": [],
      "source": [
        "from medigan import Generators\n",
        "from matplotlib import pyplot as plt\n",
        "import matplotlib.image as mpimg\n",
        "import numpy as np\n",
        "import os\n",
        "from google.colab import files\n",
        "generators = Generators()"
      ]
    },
    {
      "cell_type": "code",
      "execution_count": 28,
      "metadata": {
        "id": "SjnigPfs4WL8"
      },
      "outputs": [],
      "source": [
        "dataloader_brain = generators.get_as_torch_dataloader(model_id=7, num_samples=1, prefetch_factor = None, install_dependencies=True)"
      ]
    },
    {
      "cell_type": "code",
      "execution_count": 29,
      "metadata": {
        "id": "ce_K4orG4Ywa"
      },
      "outputs": [],
      "source": [
        "dataloader_mass_mark = generators.get_as_torch_dataloader(model_id= 4,num_samples=1, prefetch_factor = None, install_dependencies=True)"
      ]
    },
    {
      "cell_type": "code",
      "execution_count": 30,
      "metadata": {
        "id": "Q3EFRQWB4adL"
      },
      "outputs": [],
      "source": [
        "dataloader_polyps = generators.get_as_torch_dataloader(model_id= 9,num_samples=1, prefetch_factor = None, install_dependencies=True)"
      ]
    },
    {
      "cell_type": "code",
      "execution_count": 31,
      "metadata": {
        "id": "CSNnsVKy4gpc"
      },
      "outputs": [],
      "source": [
        "dataloader_lung_nodules = generators.get_as_torch_dataloader(model_id= 17,num_samples=1, prefetch_factor = None, install_dependencies=True)"
      ]
    },
    {
      "cell_type": "code",
      "execution_count": 32,
      "metadata": {
        "id": "qharcnNN4i1S"
      },
      "outputs": [],
      "source": [
        "dataloader_chest_xray = generators.get_as_torch_dataloader(model_id= 19,num_samples=1, prefetch_factor = None, install_dependencies=True)"
      ]
    },
    {
      "cell_type": "code",
      "execution_count": 33,
      "metadata": {
        "id": "mAKQlf0H4nGr"
      },
      "outputs": [],
      "source": [
        "def convert_to_img1(dataloader,model_id, flag):\n",
        "\n",
        "  plt.figure()\n",
        "\n",
        "  folder_path1 = f\"/content/samp_data{model_id}\"\n",
        "  os.makedirs(folder_path1, exist_ok=True)\n",
        "  folder_path2 = f\"/content/mask_data{model_id}\"\n",
        "  os.makedirs(folder_path2, exist_ok=True)\n",
        "\n",
        "  for batch_idx, data_dict in enumerate(dataloader):\n",
        "      sample = np.squeeze(data_dict.get(\"sample\"))\n",
        "      mask = np.squeeze(data_dict.get(\"mask\"))\n",
        "      plt.imshow(sample, cmap='gray')\n",
        "      plt.axis('off')\n",
        "      image_path1 = os.path.join(folder_path1, f\"sample{flag}_{model_id}.png\")\n",
        "      plt.savefig(image_path1)\n",
        "      files.download(image_path1)\n",
        "      plt.imshow(mask, cmap='gray')\n",
        "      plt.axis('off')\n",
        "      image_path2 = os.path.join(folder_path2, f\"mask{flag}_{model_id}.png\")\n",
        "      plt.savefig(image_path2)\n",
        "      files.download(image_path2)\n",
        "      plt.close()\n",
        "      break"
      ]
    },
    {
      "cell_type": "code",
      "execution_count": 34,
      "metadata": {
        "id": "QYWonnCx4rgK"
      },
      "outputs": [],
      "source": [
        "def convert_to_img2(dataloader,model_id, flag):\n",
        "\n",
        "  folder_path1 = f\"/content/samp_data{model_id}\"\n",
        "  os.makedirs(folder_path1, exist_ok=True)\n",
        "\n",
        "  plt.figure(figsize=(15,5))\n",
        "  data_dict = next(iter(dataloader))\n",
        "  sample = np.squeeze(data_dict.get(\"sample\"))\n",
        "  plt.imshow(sample, cmap='gray')\n",
        "  plt.axis('off')\n",
        "  image_path1 = os.path.join(folder_path1, f\"sample{flag}_{model_id}.png\")\n",
        "  plt.savefig(image_path1)\n",
        "  files.download(image_path1)\n",
        "  plt.close()"
      ]
    },
    {
      "cell_type": "code",
      "execution_count": 35,
      "metadata": {
        "id": "WC82BACI5BMi"
      },
      "outputs": [],
      "source": [
        "similar_words1 = ['brain', 'tumor']\n",
        "similar_words2 = ['breast', 'mass', 'cell']\n",
        "similar_words3 = ['Polyps', 'mask']\n",
        "similar_words4 = ['lung', 'nodules']\n",
        "similar_words5 = ['chest', 'x-ray']"
      ]
    },
    {
      "cell_type": "code",
      "execution_count": 39,
      "metadata": {
        "id": "U0jThD695C9a"
      },
      "outputs": [],
      "source": [
        "def main():\n",
        "  print(\"Synthetic Medical Image Generator:\")\n",
        "  print(\"Generatable Datasets: \")\n",
        "  print(\" \")\n",
        "  print(\"--> Brain tumor with Segmentation\")\n",
        "  print(\"--> Breast Mass Cells with Masking and Segmentation\")\n",
        "  print(\"--> Polyps with Segmentation\")\n",
        "  print(\"--> Lung Nodules\")\n",
        "  print(\"--> Chest X-ray\")\n",
        "  prompt = list(str(input()).split())\n",
        "  index = 0\n",
        "  for i in range(len(prompt)):\n",
        "    if prompt[i] in similar_words1:\n",
        "      index = 1\n",
        "      break\n",
        "    elif prompt[i] in similar_words2:\n",
        "      index = 2\n",
        "      break\n",
        "    elif prompt[i] in similar_words3:\n",
        "      index = 3\n",
        "      break\n",
        "    elif prompt[i] in similar_words4:\n",
        "      index = 4\n",
        "      break\n",
        "    elif prompt[i] in similar_words5:\n",
        "      index = 5\n",
        "      break\n",
        "\n",
        "  if index == 0:\n",
        "    print(\"Enter a valid prompt\")\n",
        "  else:\n",
        "    num_images = None\n",
        "    for word in prompt:\n",
        "      if word.isdigit():\n",
        "        num_images = int(word)\n",
        "        break\n",
        "      if num_images is None:\n",
        "        num_images = 1\n",
        "\n",
        "    if index == 1:\n",
        "      flag = 1\n",
        "      for i in range(num_images):\n",
        "        dataloader_brain = generators.get_as_torch_dataloader(model_id=7, num_samples=1, prefetch_factor = None, install_dependencies=True)\n",
        "        convert_to_img1(dataloader_brain, 7, flag)\n",
        "        flag += 1\n",
        "      print(\"Image successfully generated\")\n",
        "      print(\"Here is a sample of the generated image: \")\n",
        "      print(\" \")\n",
        "      print(\"Sample data:\")\n",
        "      img = mpimg.imread('/content/samp_data7/sample1_7.png')\n",
        "      plt.imshow(img)\n",
        "      plt.axis('off')\n",
        "      plt.show()\n",
        "      print(\" \")\n",
        "      print(\"Mask data:\")\n",
        "      img = mpimg.imread('/content/mask_data7/mask1_7.png')\n",
        "      plt.imshow(img)\n",
        "      plt.axis('off')\n",
        "      plt.show()\n",
        "\n",
        "    elif index == 2:\n",
        "      flag = 1\n",
        "      for i in range(num_images):\n",
        "        dataloader_mass_mark = generators.get_as_torch_dataloader(model_id= 4,num_samples=1, prefetch_factor = None, install_dependencies=True)\n",
        "        convert_to_img1(dataloader_mass_mark, 4, flag)\n",
        "        flag += 1\n",
        "      print(\"Image successfully generated\")\n",
        "      print(\"Here is a sample of the generated image: \")\n",
        "      print(\" \")\n",
        "      print(\"Sample data:\")\n",
        "      img = mpimg.imread('/content/samp_data4/sample1_4.png')\n",
        "      plt.imshow(img)\n",
        "      plt.axis('off')\n",
        "      plt.show()\n",
        "      print(\" \")\n",
        "      print(\"Mask data:\")\n",
        "      img = mpimg.imread('/content/mask_data4/mask1_4.png')\n",
        "      plt.imshow(img)\n",
        "      plt.axis('off')\n",
        "      plt.show()\n",
        "\n",
        "    elif index == 3:\n",
        "      flag = 1\n",
        "      for i in range(num_images):\n",
        "        dataloader_polyps = generators.get_as_torch_dataloader(model_id= 9,num_samples=1, prefetch_factor = None, install_dependencies=True)\n",
        "        convert_to_img1(dataloader_polyps, 9, flag)\n",
        "        flag += 1\n",
        "      print(\"Image successfully generated\")\n",
        "      print(\"Here is a sample of the generated image: \")\n",
        "      print(\" \")\n",
        "      print(\"Sample data:\")\n",
        "      img = mpimg.imread('/content/samp_data9/sample1_9.png')\n",
        "      plt.imshow(img)\n",
        "      plt.axis('off')\n",
        "      plt.show()\n",
        "      print(\" \")\n",
        "      print(\"Mask data:\")\n",
        "      img = mpimg.imread('/content/mask_data9/mask1_9.png')\n",
        "      plt.imshow(img)\n",
        "      plt.axis('off')\n",
        "      plt.show()\n",
        "\n",
        "    elif index == 4:\n",
        "      flag = 1\n",
        "      for i in range(num_images):\n",
        "        dataloader_lung_nodules = generators.get_as_torch_dataloader(model_id= 17,num_samples=1, prefetch_factor = None, install_dependencies=True)\n",
        "        convert_to_img2(dataloader_lung_nodules, 17, flag)\n",
        "        flag += 1\n",
        "      print(\"Image successfully generated\")\n",
        "      print(\"Here is a sample of the generated image: \")\n",
        "      print(\" \")\n",
        "      print(\"Sample data:\")\n",
        "      img = mpimg.imread('/content/samp_data17/sample1_17.png')\n",
        "      plt.imshow(img)\n",
        "      plt.axis('off')\n",
        "      plt.show()\n",
        "\n",
        "    elif index == 5:\n",
        "      flag = 1\n",
        "      for i in range(num_images):\n",
        "        dataloader_chest_xray = generators.get_as_torch_dataloader(model_id= 19,num_samples=1, prefetch_factor = None, install_dependencies=True)\n",
        "        convert_to_img2(dataloader_chest_xray, 19, flag)\n",
        "        flag += 1\n",
        "      print(\"Image successfully generated\")\n",
        "      print(\"Here is a sample of the generated image: \")\n",
        "      print(\" \")\n",
        "      print(\"Sample data:\")\n",
        "      img = mpimg.imread('/content/samp_data19/sample1_19.png')\n",
        "      plt.imshow(img)\n",
        "      plt.axis('off')\n",
        "      plt.show()"
      ]
    },
    {
      "cell_type": "code",
      "execution_count": 40,
      "metadata": {
        "colab": {
          "base_uri": "https://localhost:8080/",
          "height": 1000
        },
        "id": "dXcRtAUw7Fgy",
        "outputId": "09fc70fd-d607-4ee3-c825-f1681257c696"
      },
      "outputs": [
        {
          "name": "stdout",
          "output_type": "stream",
          "text": [
            "Synthetic Medical Image Generator:\n",
            "Generatable Datasets: \n",
            "--> Brain tumor with Segmentation\n",
            "--> Breast Mass Cells with Masking and Segmentation\n",
            "--> Polyps with Segmentation\n",
            "--> Lung Nodules\n",
            "--> Chest X-ray\n",
            "Generate 2 images of brain tumor with segmentation\n"
          ]
        },
        {
          "data": {
            "application/javascript": "\n    async function download(id, filename, size) {\n      if (!google.colab.kernel.accessAllowed) {\n        return;\n      }\n      const div = document.createElement('div');\n      const label = document.createElement('label');\n      label.textContent = `Downloading \"${filename}\": `;\n      div.appendChild(label);\n      const progress = document.createElement('progress');\n      progress.max = size;\n      div.appendChild(progress);\n      document.body.appendChild(div);\n\n      const buffers = [];\n      let downloaded = 0;\n\n      const channel = await google.colab.kernel.comms.open(id);\n      // Send a message to notify the kernel that we're ready.\n      channel.send({})\n\n      for await (const message of channel.messages) {\n        // Send a message to notify the kernel that we're ready.\n        channel.send({})\n        if (message.buffers) {\n          for (const buffer of message.buffers) {\n            buffers.push(buffer);\n            downloaded += buffer.byteLength;\n            progress.value = downloaded;\n          }\n        }\n      }\n      const blob = new Blob(buffers, {type: 'application/binary'});\n      const a = document.createElement('a');\n      a.href = window.URL.createObjectURL(blob);\n      a.download = filename;\n      div.appendChild(a);\n      a.click();\n      div.remove();\n    }\n  ",
            "text/plain": [
              "<IPython.core.display.Javascript object>"
            ]
          },
          "metadata": {},
          "output_type": "display_data"
        },
        {
          "data": {
            "application/javascript": "download(\"download_964f1b63-5054-49bb-bb2c-c3161217455c\", \"sample1_7.png\", 35341)",
            "text/plain": [
              "<IPython.core.display.Javascript object>"
            ]
          },
          "metadata": {},
          "output_type": "display_data"
        },
        {
          "data": {
            "application/javascript": "\n    async function download(id, filename, size) {\n      if (!google.colab.kernel.accessAllowed) {\n        return;\n      }\n      const div = document.createElement('div');\n      const label = document.createElement('label');\n      label.textContent = `Downloading \"${filename}\": `;\n      div.appendChild(label);\n      const progress = document.createElement('progress');\n      progress.max = size;\n      div.appendChild(progress);\n      document.body.appendChild(div);\n\n      const buffers = [];\n      let downloaded = 0;\n\n      const channel = await google.colab.kernel.comms.open(id);\n      // Send a message to notify the kernel that we're ready.\n      channel.send({})\n\n      for await (const message of channel.messages) {\n        // Send a message to notify the kernel that we're ready.\n        channel.send({})\n        if (message.buffers) {\n          for (const buffer of message.buffers) {\n            buffers.push(buffer);\n            downloaded += buffer.byteLength;\n            progress.value = downloaded;\n          }\n        }\n      }\n      const blob = new Blob(buffers, {type: 'application/binary'});\n      const a = document.createElement('a');\n      a.href = window.URL.createObjectURL(blob);\n      a.download = filename;\n      div.appendChild(a);\n      a.click();\n      div.remove();\n    }\n  ",
            "text/plain": [
              "<IPython.core.display.Javascript object>"
            ]
          },
          "metadata": {},
          "output_type": "display_data"
        },
        {
          "data": {
            "application/javascript": "download(\"download_4b803cbe-3f8c-40a6-97d1-e065c35c8c88\", \"mask1_7.png\", 6394)",
            "text/plain": [
              "<IPython.core.display.Javascript object>"
            ]
          },
          "metadata": {},
          "output_type": "display_data"
        },
        {
          "data": {
            "application/javascript": "\n    async function download(id, filename, size) {\n      if (!google.colab.kernel.accessAllowed) {\n        return;\n      }\n      const div = document.createElement('div');\n      const label = document.createElement('label');\n      label.textContent = `Downloading \"${filename}\": `;\n      div.appendChild(label);\n      const progress = document.createElement('progress');\n      progress.max = size;\n      div.appendChild(progress);\n      document.body.appendChild(div);\n\n      const buffers = [];\n      let downloaded = 0;\n\n      const channel = await google.colab.kernel.comms.open(id);\n      // Send a message to notify the kernel that we're ready.\n      channel.send({})\n\n      for await (const message of channel.messages) {\n        // Send a message to notify the kernel that we're ready.\n        channel.send({})\n        if (message.buffers) {\n          for (const buffer of message.buffers) {\n            buffers.push(buffer);\n            downloaded += buffer.byteLength;\n            progress.value = downloaded;\n          }\n        }\n      }\n      const blob = new Blob(buffers, {type: 'application/binary'});\n      const a = document.createElement('a');\n      a.href = window.URL.createObjectURL(blob);\n      a.download = filename;\n      div.appendChild(a);\n      a.click();\n      div.remove();\n    }\n  ",
            "text/plain": [
              "<IPython.core.display.Javascript object>"
            ]
          },
          "metadata": {},
          "output_type": "display_data"
        },
        {
          "data": {
            "application/javascript": "download(\"download_8c52a694-463c-4452-8492-454709fa9334\", \"sample2_7.png\", 36237)",
            "text/plain": [
              "<IPython.core.display.Javascript object>"
            ]
          },
          "metadata": {},
          "output_type": "display_data"
        },
        {
          "data": {
            "application/javascript": "\n    async function download(id, filename, size) {\n      if (!google.colab.kernel.accessAllowed) {\n        return;\n      }\n      const div = document.createElement('div');\n      const label = document.createElement('label');\n      label.textContent = `Downloading \"${filename}\": `;\n      div.appendChild(label);\n      const progress = document.createElement('progress');\n      progress.max = size;\n      div.appendChild(progress);\n      document.body.appendChild(div);\n\n      const buffers = [];\n      let downloaded = 0;\n\n      const channel = await google.colab.kernel.comms.open(id);\n      // Send a message to notify the kernel that we're ready.\n      channel.send({})\n\n      for await (const message of channel.messages) {\n        // Send a message to notify the kernel that we're ready.\n        channel.send({})\n        if (message.buffers) {\n          for (const buffer of message.buffers) {\n            buffers.push(buffer);\n            downloaded += buffer.byteLength;\n            progress.value = downloaded;\n          }\n        }\n      }\n      const blob = new Blob(buffers, {type: 'application/binary'});\n      const a = document.createElement('a');\n      a.href = window.URL.createObjectURL(blob);\n      a.download = filename;\n      div.appendChild(a);\n      a.click();\n      div.remove();\n    }\n  ",
            "text/plain": [
              "<IPython.core.display.Javascript object>"
            ]
          },
          "metadata": {},
          "output_type": "display_data"
        },
        {
          "data": {
            "application/javascript": "download(\"download_9f5905c1-674d-4aa6-a8f9-90ab47210ea3\", \"mask2_7.png\", 6983)",
            "text/plain": [
              "<IPython.core.display.Javascript object>"
            ]
          },
          "metadata": {},
          "output_type": "display_data"
        },
        {
          "name": "stdout",
          "output_type": "stream",
          "text": [
            "Image successfully generated\n",
            "Here is a sample of the generated image: \n",
            "Sample data:\n"
          ]
        },
        {
          "data": {
            "image/png": "[encoded data removed]",
            "text/plain": [
              "<Figure size 640x480 with 1 Axes>"
            ]
          },
          "metadata": {},
          "output_type": "display_data"
        },
        {
          "name": "stdout",
          "output_type": "stream",
          "text": [
            "Mask data:\n"
          ]
        },
        {
          "data": {
            "image/png": "[encoded data removed]",
            "text/plain": [
              "<Figure size 640x480 with 1 Axes>"
            ]
          },
          "metadata": {},
          "output_type": "display_data"
        }
      ],
      "source": [
        "main()"
      ]
    }
  ],
  "metadata": {
    "accelerator": "GPU",
    "colab": {
      "gpuType": "T4",
      "provenance": []
    },
    "kernelspec": {
      "display_name": "Python 3",
      "name": "python3"
    },
    "language_info": {
      "name": "python"
    }
  },
  "nbformat": 4,
  "nbformat_minor": 0
}
